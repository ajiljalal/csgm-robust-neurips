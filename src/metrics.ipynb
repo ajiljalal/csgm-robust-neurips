{
 "cells": [
  {
   "cell_type": "code",
   "execution_count": 301,
   "metadata": {},
   "outputs": [],
   "source": [
    "import glob\n",
    "import matplotlib\n",
    "import matplotlib.pyplot as plt\n",
    "# import seaborn as sns\n",
    "%matplotlib inline\n",
    "from matplotlib.backends.backend_pdf import PdfPages\n",
    "import numpy as np"
   ]
  },
  {
   "cell_type": "code",
   "execution_count": 302,
   "metadata": {},
   "outputs": [],
   "source": [
    "import utils\n",
    "import metrics_utils"
   ]
  },
  {
   "cell_type": "code",
   "execution_count": 303,
   "metadata": {},
   "outputs": [],
   "source": [
    "matplotlib.rcParams.update({'font.size': 15})"
   ]
  },
  {
   "cell_type": "code",
   "execution_count": 304,
   "metadata": {},
   "outputs": [],
   "source": [
    "is_save = True\n",
    "figsize = metrics_utils.get_figsize(is_save)"
   ]
  },
  {
   "cell_type": "code",
   "execution_count": 305,
   "metadata": {},
   "outputs": [],
   "source": [
    "# hyperparameters that gave best validation error\n",
    "# for ML, MAP and Ours\n",
    "\n",
    "legend_base_regexs = [\n",
    "#     ('ML',\n",
    "#   '../estimated/celebA/full-input/gaussian/4.0/',\n",
    "#   '/map/1.0_0.0_0.0_adam_0.01_0.9_2000_2'),\n",
    "#     ('MAP-Tuned',\n",
    "#   '../estimated_backup_old/celebA/full-input/gaussian/4.0/',\n",
    "#   '/map/*'),\n",
    "#                       ('Langevin-Tuned',\n",
    "#   '../estimated_backup_old/celebA/full-input/gaussian/4.0/',\n",
    "#   '/noisy/*'),\n",
    "#     ('MAP',\n",
    "#     '../estimated/celebA/full-input/circulant/4.0/',\n",
    "#      '/realnvp/map/*'),\n",
    "#                       ('Langevin',\n",
    "#   '../estimated_backup_old/celebA/full-input/gaussian/4.0/',\n",
    "#   '/langevin/*'),\n",
    "    ('MAP',\n",
    "    '../estimated/celebA/full-input/circulant/4.0/',\n",
    "     '/realnvp/annealed_map/None*'),\n",
    "#         ('Langevin',\n",
    "#     '../estimated/celebA/full-input/circulant/4.0/',\n",
    "#      '/realnvp/langevin/*'),\n",
    "    ('Langevin',\n",
    "    '../estimated/celebA/full-input/circulant/4.0/',\n",
    "     '/realnvp/annealed_langevin/*')\n",
    "                 ]"
   ]
  },
  {
   "cell_type": "code",
   "execution_count": 306,
   "metadata": {
    "scrolled": false
   },
   "outputs": [
    {
     "name": "stderr",
     "output_type": "stream",
     "text": [
      "/home/ajil/work/cs-full/env/lib/python3.6/site-packages/numpy/core/fromnumeric.py:3373: RuntimeWarning: Mean of empty slice.\n",
      "  out=out, **kwargs)\n",
      "/home/ajil/work/cs-full/env/lib/python3.6/site-packages/numpy/core/_methods.py:170: RuntimeWarning: invalid value encountered in double_scalars\n",
      "  ret = ret.dtype.type(ret / rcount)\n",
      "/home/ajil/work/cs-full/env/lib/python3.6/site-packages/numpy/core/_methods.py:234: RuntimeWarning: Degrees of freedom <= 0 for slice\n",
      "  keepdims=keepdims)\n",
      "/home/ajil/work/cs-full/env/lib/python3.6/site-packages/numpy/core/_methods.py:195: RuntimeWarning: invalid value encountered in true_divide\n",
      "  arrmean, rcount, out=arrmean, casting='unsafe', subok=False)\n",
      "/home/ajil/work/cs-full/env/lib/python3.6/site-packages/numpy/core/_methods.py:226: RuntimeWarning: invalid value encountered in double_scalars\n",
      "  ret = ret.dtype.type(ret / rcount)\n"
     ]
    },
    {
     "name": "stdout",
     "output_type": "stream",
     "text": [
      "../estimated/celebA/full-input/circulant/4.0/2500/realnvp/annealed_map/None_200.0_10.0_16.0_4.0_False_sgd_0.001_0.0_2000_1\n",
      "../estimated/celebA/full-input/circulant/4.0/7500/realnvp/annealed_map/None_200.0_10.0_16.0_4.0_False_sgd_0.0005_0.0_2000_1\n",
      "../estimated/celebA/full-input/circulant/4.0/1000/realnvp/annealed_map/None_200.0_10.0_12.0_4.0_False_sgd_0.001_0.0_2000_1\n",
      "../estimated/celebA/full-input/circulant/4.0/200/realnvp/annealed_map/None_200.0_10.0_12.0_4.0_False_sgd_0.0005_0.0_2000_1\n",
      "../estimated/celebA/full-input/circulant/4.0/500/realnvp/annealed_map/None_200.0_10.0_16.0_4.0_False_sgd_0.001_0.0_2000_1\n",
      "../estimated/celebA/full-input/circulant/4.0/100/realnvp/annealed_map/None_200.0_10.0_16.0_4.0_False_sgd_0.001_0.0_2000_1\n",
      "../estimated/celebA/full-input/circulant/4.0/5000/realnvp/annealed_map/None_200.0_10.0_20.0_4.0_False_sgd_0.0001_0.0_2000_1\n",
      "../estimated/celebA/full-input/circulant/4.0/10000/realnvp/annealed_map/None_200.0_10.0_12.0_4.0_False_sgd_0.0001_0.0_2000_1\n",
      "../estimated/celebA/full-input/circulant/4.0/2500/realnvp/annealed_langevin/None_None_200.0_10.0_16.0_4.0_False_sgd_0.0005_0.0_2000_1\n",
      "../estimated/celebA/full-input/circulant/4.0/7500/realnvp/annealed_langevin/None_None_200.0_10.0_12.0_4.0_False_sgd_0.0001_0.0_2000_1\n",
      "../estimated/celebA/full-input/circulant/4.0/1000/realnvp/annealed_langevin/None_None_200.0_10.0_16.0_4.0_False_sgd_0.0001_0.0_2000_1\n",
      "../estimated/celebA/full-input/circulant/4.0/200/realnvp/annealed_langevin/None_None_200.0_10.0_20.0_4.0_False_sgd_0.0005_0.0_2000_1\n",
      "../estimated/celebA/full-input/circulant/4.0/500/realnvp/annealed_langevin/None_None_200.0_10.0_12.0_4.0_False_sgd_0.001_0.0_2000_1\n",
      "../estimated/celebA/full-input/circulant/4.0/100/realnvp/annealed_langevin/None_None_200.0_10.0_16.0_4.0_False_sgd_0.0005_0.0_2000_1\n",
      "../estimated/celebA/full-input/circulant/4.0/5000/realnvp/annealed_langevin/0.5_None_200.0_10.0_16.0_4.0_False_sgd_0.0005_0.0_2000_1\n",
      "../estimated/celebA/full-input/circulant/4.0/10000/realnvp/annealed_langevin/None_None_200.0_10.0_16.0_4.0_False_sgd_0.0001_0.0_2000_1\n"
     ]
    },
    {
     "name": "stderr",
     "output_type": "stream",
     "text": [
      "/home/ajil/work/cs-full/env/lib/python3.6/site-packages/ipykernel_launcher.py:23: MatplotlibDeprecationWarning: The 'nonposx' parameter of __init__() has been renamed 'nonpositive' since Matplotlib 3.3; support for the old name will be dropped two minor releases later.\n"
     ]
    },
    {
     "data": {
      "image/png": "[encoded data removed]",
      "text/plain": [
       "<Figure size 432x288 with 1 Axes>"
      ]
     },
     "metadata": {
      "needs_background": "light"
     },
     "output_type": "display_data"
    }
   ],
   "source": [
    "## Plot\n",
    "retrieve = 'l2'\n",
    "for crit in ['l2']:#, 'measurement']:\n",
    "    pdf = PdfPages(f'../results/{retrieve}_error_nvp_criterion={crit}.pdf')\n",
    "    plt.figure()\n",
    "    criterion = [crit, 'mean']\n",
    "    retrieve_list = [[retrieve, 'mean'], [retrieve, 'std']]\n",
    "    legends = []\n",
    "    colors = dict()\n",
    "\n",
    "    for legend, base, regex in legend_base_regexs:\n",
    "        colors[legend] = metrics_utils.plot(base, regex, criterion, retrieve_list, legend)\n",
    "\n",
    "#     retrieve_list = [['measurement', 'mean'], ['measurement', 'std']]\n",
    "\n",
    "#     for legend, base, regex in legend_base_regexs:\n",
    "#         _ = metrics_utils.plot(base, regex, criterion, retrieve_list, legend + '-measurement-error',colors[legend])\n",
    "\n",
    "    ## Prettify\n",
    "    # axis\n",
    "#     plt.gca().set_ylim([0,0.10])\n",
    "    # plt.gca().set_ylim(bottom=0)\n",
    "    plt.gca().set_xscale(\"log\", nonposx='clip')\n",
    "    plt.gca().set_xlim([90, 11000])\n",
    "#     plt.gca().set_ylim([0, 0.01])\n",
    "\n",
    "    # # labels, ticks, titles\n",
    "    ticks = [100,200,500, 1000, 2500, 5000, 7500, 10000]#, 12288]\n",
    "    labels = [100, 200, 500, 1000, 2500, 5000, 7500, 10000]#, 12288]\n",
    "    plt.xticks(ticks, labels, rotation=90)\n",
    "    plt.xticks(ticks, labels)\n",
    "    if retrieve_list[0][0] == 'lpips':\n",
    "        ylabel = 'LPIPS'\n",
    "    elif retrieve_list[0][0] == 'l2':\n",
    "        ylabel = 'Reconstruction Error (per pixel)'\n",
    "    plt.ylabel(ylabel)\n",
    "    plt.xlabel('Number of measurements')\n",
    "\n",
    "    # Legends\n",
    "    plt.legend(fontsize=8)\n",
    "\n",
    "\n",
    "    pdf.savefig(bbox_inches='tight')\n",
    "    pdf.close()\n",
    "\n",
    "\n",
    "# pdf = PdfPages('../results/measurement_error_nvp.pdf')\n",
    "\n",
    "# plt.figure()\n",
    "# criterion = ['measurement', 'mean']\n",
    "# retrieve_list = [['measurement', 'mean'], ['measurement', 'std']]\n",
    "# legends = []\n",
    "# for legend, base, regex in legend_base_regexs:\n",
    "#     metrics_utils.plot(base, regex, criterion, retrieve_list,colors[legend])\n",
    "#     legends.append(legend + '-training')\n",
    "# criterion = ['validation', 'mean']\n",
    "# retrieve_list = [['validation', 'mean'], ['validation', 'std']]\n",
    "# for legend, base, regex in legend_base_regexs:\n",
    "#     metrics_utils.plot(base, regex, criterion, retrieve_list,colors[legend])\n",
    "#     legends.append(legend + '-validation')\n",
    "    \n",
    "\n",
    "# ## Prettify\n",
    "# # axis\n",
    "# # plt.gca().set_ylim([0,0.007])\n",
    "# # plt.gca().set_ylim(bottom=0)\n",
    "# plt.gca().set_xscale(\"log\", nonposx='clip')\n",
    "# plt.gca().set_xlim([400, 13000])\n",
    "\n",
    "# # # labels, ticks, titles\n",
    "# ticks = [500, 1000, 2500, 5000, 7500, 10000, 12288]\n",
    "# labels = [500, 1000, 2500, 5000, 7500, 10000, 12288]\n",
    "# plt.xticks(ticks, labels, rotation=90)\n",
    "# plt.xticks(ticks, labels)\n",
    "# plt.ylabel('Measurement error')\n",
    "# plt.xlabel('Number of measurements')\n",
    "\n",
    "# # Legends\n",
    "# plt.legend(legends, fontsize=8)\n",
    "\n",
    "# pdf.savefig(bbox_inches='tight')\n",
    "# pdf.close()"
   ]
  },
  {
   "cell_type": "code",
   "execution_count": 88,
   "metadata": {},
   "outputs": [],
   "source": [
    "\n",
    "from utils import load_if_pickled"
   ]
  },
  {
   "cell_type": "code",
   "execution_count": 295,
   "metadata": {},
   "outputs": [],
   "source": [
    "temp = load_if_pickled('../estimated/celebA/full-input/circulant/4.0/100/realnvp/annealed_langevin/0.5_None_200.0_10.0_16.0_4.0_False_sgd_0.0005_0.0_2000_1/l2_losses.pkl')"
   ]
  },
  {
   "cell_type": "code",
   "execution_count": 296,
   "metadata": {},
   "outputs": [],
   "source": [
    "values = np.array(list(temp.values()))"
   ]
  },
  {
   "cell_type": "code",
   "execution_count": 297,
   "metadata": {},
   "outputs": [
    {
     "data": {
      "text/plain": [
       "array([0.012206  , 0.0112872 , 0.00867736, 0.00784519, 0.01310253,\n",
       "       0.01099766, 0.01245197, 0.01777749, 0.03273111, 0.01271339,\n",
       "       0.01821818, 0.01038118, 0.01452297, 0.01672887, 0.02085219,\n",
       "       0.01027882, 0.00969366, 0.01213773, 0.02363896, 0.01199134])"
      ]
     },
     "execution_count": 297,
     "metadata": {},
     "output_type": "execute_result"
    }
   ],
   "source": [
    "values"
   ]
  },
  {
   "cell_type": "code",
   "execution_count": 298,
   "metadata": {},
   "outputs": [
    {
     "data": {
      "text/plain": [
       "0.014411689425690336"
      ]
     },
     "execution_count": 298,
     "metadata": {},
     "output_type": "execute_result"
    }
   ],
   "source": [
    "values.mean()"
   ]
  },
  {
   "cell_type": "code",
   "execution_count": 199,
   "metadata": {},
   "outputs": [
    {
     "name": "stdout",
     "output_type": "stream",
     "text": [
      "0.015248430953086778\n",
      "0.023255870796414977\n",
      "0.022125187258511883\n",
      "0.012740447816633624\n",
      "0.012694946038486874\n",
      "0.016741832996439058\n",
      "0.024644407603847857\n",
      "0.02120990588570132\n",
      "0.04791081471077132\n",
      "0.026547582875258265\n"
     ]
    }
   ],
   "source": [
    "for i in temp.keys():\n",
    "    print(np.linalg.norm(temp[i]))"
   ]
  },
  {
   "cell_type": "code",
   "execution_count": 121,
   "metadata": {},
   "outputs": [
    {
     "data": {
      "text/plain": [
       "{0: 0.1051919162273407,\n",
       " 1: 0.14535313844680786,\n",
       " 2: 0.059680525213479996,\n",
       " 3: 0.1276225596666336,\n",
       " 4: 0.1418321132659912}"
      ]
     },
     "execution_count": 121,
     "metadata": {},
     "output_type": "execute_result"
    }
   ],
   "source": [
    "temp"
   ]
  },
  {
   "cell_type": "code",
   "execution_count": null,
   "metadata": {},
   "outputs": [],
   "source": [
    "import lpips\n",
    "device = 'cuda'\n",
    "percept = lpips.PerceptualLoss(\n",
    "        model=\"net-lin\", net=\"vgg\", use_gpu=device.startswith(\"cuda\")\n",
    ")\n",
    "\n"
   ]
  },
  {
   "cell_type": "code",
   "execution_count": 35,
   "metadata": {},
   "outputs": [],
   "source": [
    "from torchvision import transforms, datasets\n"
   ]
  },
  {
   "cell_type": "code",
   "execution_count": 65,
   "metadata": {},
   "outputs": [],
   "source": [
    "import torch\n",
    "mse = torch.nn.MSELoss(reduction='mean')"
   ]
  },
  {
   "cell_type": "code",
   "execution_count": 69,
   "metadata": {},
   "outputs": [
    {
     "name": "stdout",
     "output_type": "stream",
     "text": [
      "0\t map_percept:0.31998181343078613  langevin_percept: 0.11813697218894958 \n",
      "1\t map_percept:0.3180534839630127  langevin_percept: 0.140338733792305 \n",
      "2\t map_percept:0.10434599220752716  langevin_percept: 0.08586662262678146 \n",
      "3\t map_percept:0.31631267070770264  langevin_percept: 0.12930646538734436 \n",
      "4\t map_percept:0.2639092206954956  langevin_percept: 0.13965316116809845 \n"
     ]
    }
   ],
   "source": [
    "trans = transforms.Compose([transforms.Resize((64,64)), transforms.ToTensor()])\n",
    "dataloader1 = iter(datasets.ImageFolder('../test_images/celeba/', transform=trans))\n",
    "dataloader2 = iter(datasets.ImageFolder('../estimated/celebA/full-input/gaussian/5.477/2000/map/', transform=trans))\n",
    "dataloader3 = iter(datasets.ImageFolder('../estimated/celebA/full-input/gaussian/5.477/2000/langevin/', transform=trans))\n",
    "\n",
    "for i in range(5):\n",
    "    orig = next(dataloader1)[0].cuda()\n",
    "    map = next(dataloader2)[0].cuda()\n",
    "    lang = next(dataloader3)[0].cuda()\n",
    "    print(f'{i}\\t map_percept:{percept(orig, map).sum()}  langevin_percept: {percept(orig,lang).sum()} ')\n"
   ]
  },
  {
   "cell_type": "code",
   "execution_count": 70,
   "metadata": {},
   "outputs": [
    {
     "name": "stdout",
     "output_type": "stream",
     "text": [
      "0\t map_mse:0.00491326255723834 langevin_mse: 0.0027664639055728912\n",
      "1\t map_mse:0.003174141049385071 langevin_mse: 0.00251996167935431\n",
      "2\t map_mse:0.0025677059311419725 langevin_mse: 0.002614569151774049\n",
      "3\t map_mse:0.0029670456424355507 langevin_mse: 0.002129434607923031\n",
      "4\t map_mse:0.0033182241022586823 langevin_mse: 0.002693063812330365\n"
     ]
    }
   ],
   "source": [
    "trans = transforms.Compose([transforms.Resize((64,64)), transforms.ToTensor()])\n",
    "dataloader1 = iter(datasets.ImageFolder('../test_images/celeba/', transform=trans))\n",
    "dataloader2 = iter(datasets.ImageFolder('../estimated/celebA/full-input/gaussian/5.477/2000/map/', transform=trans))\n",
    "dataloader3 = iter(datasets.ImageFolder('../estimated/celebA/full-input/gaussian/5.477/2000/langevin/', transform=trans))\n",
    "\n",
    "for i in range(5):\n",
    "    orig = next(dataloader1)[0].cuda()\n",
    "    map = next(dataloader2)[0].cuda()\n",
    "    lang = next(dataloader3)[0].cuda()\n",
    "    print(f'{i}\\t map_mse:{mse(orig, map).sum()} langevin_mse: {mse(orig,lang).sum()}')\n"
   ]
  },
  {
   "cell_type": "code",
   "execution_count": 62,
   "metadata": {},
   "outputs": [
    {
     "ename": "StopIteration",
     "evalue": "",
     "output_type": "error",
     "traceback": [
      "\u001b[0;31m---------------------------------------------------------------------------\u001b[0m",
      "\u001b[0;31mStopIteration\u001b[0m                             Traceback (most recent call last)",
      "\u001b[0;32m<ipython-input-62-5f8102dcd308>\u001b[0m in \u001b[0;36m<module>\u001b[0;34m\u001b[0m\n\u001b[1;32m      1\u001b[0m \u001b[0;32mfor\u001b[0m \u001b[0mi\u001b[0m \u001b[0;32min\u001b[0m \u001b[0mrange\u001b[0m\u001b[0;34m(\u001b[0m\u001b[0;36m5\u001b[0m\u001b[0;34m)\u001b[0m\u001b[0;34m:\u001b[0m\u001b[0;34m\u001b[0m\u001b[0;34m\u001b[0m\u001b[0m\n\u001b[1;32m      2\u001b[0m     \u001b[0morig\u001b[0m \u001b[0;34m=\u001b[0m \u001b[0mnext\u001b[0m\u001b[0;34m(\u001b[0m\u001b[0mdataloader1\u001b[0m\u001b[0;34m)\u001b[0m\u001b[0;34m[\u001b[0m\u001b[0;36m0\u001b[0m\u001b[0;34m]\u001b[0m\u001b[0;34m.\u001b[0m\u001b[0mcuda\u001b[0m\u001b[0;34m(\u001b[0m\u001b[0;34m)\u001b[0m\u001b[0;34m\u001b[0m\u001b[0;34m\u001b[0m\u001b[0m\n\u001b[0;32m----> 3\u001b[0;31m     \u001b[0mmap\u001b[0m \u001b[0;34m=\u001b[0m \u001b[0mnext\u001b[0m\u001b[0;34m(\u001b[0m\u001b[0mdataloader2\u001b[0m\u001b[0;34m)\u001b[0m\u001b[0;34m[\u001b[0m\u001b[0;36m0\u001b[0m\u001b[0;34m]\u001b[0m\u001b[0;34m.\u001b[0m\u001b[0mcuda\u001b[0m\u001b[0;34m(\u001b[0m\u001b[0;34m)\u001b[0m\u001b[0;34m\u001b[0m\u001b[0;34m\u001b[0m\u001b[0m\n\u001b[0m\u001b[1;32m      4\u001b[0m     \u001b[0mlang\u001b[0m \u001b[0;34m=\u001b[0m \u001b[0mnext\u001b[0m\u001b[0;34m(\u001b[0m\u001b[0mdataloader3\u001b[0m\u001b[0;34m)\u001b[0m\u001b[0;34m[\u001b[0m\u001b[0;36m0\u001b[0m\u001b[0;34m]\u001b[0m\u001b[0;34m.\u001b[0m\u001b[0mcuda\u001b[0m\u001b[0;34m(\u001b[0m\u001b[0;34m)\u001b[0m\u001b[0;34m\u001b[0m\u001b[0;34m\u001b[0m\u001b[0m\n\u001b[1;32m      5\u001b[0m     \u001b[0mprint\u001b[0m\u001b[0;34m(\u001b[0m\u001b[0;34mf'{i}\\t map:{mse(orig, map).sum()} \\t langevin: {mse(orig,lang).sum()}'\u001b[0m\u001b[0;34m)\u001b[0m\u001b[0;34m\u001b[0m\u001b[0;34m\u001b[0m\u001b[0m\n",
      "\u001b[0;31mStopIteration\u001b[0m: "
     ]
    }
   ],
   "source": [
    "for i in range(5):\n",
    "    orig = next(dataloader1)[0].cuda()\n",
    "    map = next(dataloader2)[0].cuda()\n",
    "    lang = next(dataloader3)[0].cuda()\n",
    "    print(f'{i}\\t ')"
   ]
  },
  {
   "cell_type": "code",
   "execution_count": 36,
   "metadata": {},
   "outputs": [
    {
     "data": {
      "text/plain": [
       "0.0032"
      ]
     },
     "execution_count": 36,
     "metadata": {},
     "output_type": "execute_result"
    }
   ],
   "source": [
    "16/5000"
   ]
  },
  {
   "cell_type": "code",
   "execution_count": 38,
   "metadata": {},
   "outputs": [
    {
     "data": {
      "text/plain": [
       "0.005208333333333333"
      ]
     },
     "execution_count": 38,
     "metadata": {},
     "output_type": "execute_result"
    }
   ],
   "source": [
    "64/12288"
   ]
  },
  {
   "cell_type": "code",
   "execution_count": 39,
   "metadata": {},
   "outputs": [
    {
     "data": {
      "text/plain": [
       "0.0064"
      ]
     },
     "execution_count": 39,
     "metadata": {},
     "output_type": "execute_result"
    }
   ],
   "source": [
    "32/5000"
   ]
  },
  {
   "cell_type": "code",
   "execution_count": null,
   "metadata": {},
   "outputs": [],
   "source": []
  }
 ],
 "metadata": {
  "kernelspec": {
   "display_name": "cs-full",
   "language": "python",
   "name": "cs-full"
  },
  "language_info": {
   "codemirror_mode": {
    "name": "ipython",
    "version": 3
   },
   "file_extension": ".py",
   "mimetype": "text/x-python",
   "name": "python",
   "nbconvert_exporter": "python",
   "pygments_lexer": "ipython3",
   "version": "3.6.10"
  }
 },
 "nbformat": 4,
 "nbformat_minor": 1
}
